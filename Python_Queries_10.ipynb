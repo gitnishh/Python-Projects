{
 "cells": [
  {
   "cell_type": "markdown",
   "id": "3dcb940f",
   "metadata": {},
   "source": [
    "## Python Basic Programming Assignment 10"
   ]
  },
  {
   "cell_type": "markdown",
   "id": "6720790a",
   "metadata": {},
   "source": [
    "### 1. Write a Python program to find sum of elements in list?"
   ]
  },
  {
   "cell_type": "code",
   "execution_count": 2,
   "id": "b069f3a2-14d5-4bf9-a8e6-01daed85f91e",
   "metadata": {},
   "outputs": [
    {
     "name": "stdout",
     "output_type": "stream",
     "text": [
      "Sum of elements: 15\n"
     ]
    }
   ],
   "source": [
    "# Define a list of numbers\n",
    "numbers = [1, 2, 3, 4, 5]\n",
    "\n",
    "# Initialize a variable to store the sum\n",
    "sum_of_elements = 0\n",
    "\n",
    "# Iterate through the list and add each element to the sum\n",
    "for num in numbers:\n",
    "    sum_of_elements += num\n",
    "\n",
    "# Print the sum of elements\n",
    "print(\"Sum of elements:\", sum_of_elements)\n"
   ]
  },
  {
   "cell_type": "markdown",
   "id": "fe1137c3",
   "metadata": {},
   "source": [
    "### 2. Write a Python program to  Multiply all numbers in the list?"
   ]
  },
  {
   "cell_type": "code",
   "execution_count": 3,
   "id": "db494c2f-fbad-4e12-97f9-ba89a2b22bc9",
   "metadata": {},
   "outputs": [
    {
     "name": "stdout",
     "output_type": "stream",
     "text": [
      "Product of elements: 120\n"
     ]
    }
   ],
   "source": [
    "# Define a list of numbers\n",
    "numbers = [1, 2, 3, 4, 5]\n",
    "\n",
    "# Initialize a variable to store the product, starting with 1\n",
    "product_of_elements = 1\n",
    "\n",
    "# Iterate through the list and multiply each element with the product\n",
    "for num in numbers:\n",
    "    product_of_elements *= num\n",
    "\n",
    "# Print the product of elements\n",
    "print(\"Product of elements:\", product_of_elements)\n"
   ]
  },
  {
   "cell_type": "markdown",
   "id": "078681db",
   "metadata": {},
   "source": [
    "### 3. Write a Python program to find smallest number in a list?"
   ]
  },
  {
   "cell_type": "code",
   "execution_count": 4,
   "id": "e3c3f814-edc9-44fb-a531-bc7f8930153d",
   "metadata": {},
   "outputs": [
    {
     "name": "stdout",
     "output_type": "stream",
     "text": [
      "Smallest number: 1\n"
     ]
    }
   ],
   "source": [
    "# Define a list of numbers\n",
    "numbers = [5, 2, 8, 1, 3]\n",
    "\n",
    "# Find the smallest number using the min() function\n",
    "smallest_number = min(numbers)\n",
    "\n",
    "# Print the smallest number\n",
    "print(\"Smallest number:\", smallest_number)\n"
   ]
  },
  {
   "cell_type": "markdown",
   "id": "12b04397",
   "metadata": {},
   "source": [
    "### 4. Write a Python program to find largest number in a list?"
   ]
  },
  {
   "cell_type": "code",
   "execution_count": 5,
   "id": "8f82221f-5700-4200-b943-f57115a5bb16",
   "metadata": {},
   "outputs": [
    {
     "name": "stdout",
     "output_type": "stream",
     "text": [
      "Largest number: 8\n"
     ]
    }
   ],
   "source": [
    "# Define a list of numbers\n",
    "numbers = [5, 2, 8, 1, 3]\n",
    "\n",
    "# Find the largest number using the max() function\n",
    "largest_number = max(numbers)\n",
    "\n",
    "# Print the largest number\n",
    "print(\"Largest number:\", largest_number)\n"
   ]
  },
  {
   "cell_type": "markdown",
   "id": "86442b51",
   "metadata": {},
   "source": [
    "### 5. Write a Python program to find second largest number in a list?"
   ]
  },
  {
   "cell_type": "code",
   "execution_count": 6,
   "id": "fc7192e1-04ae-4bc5-9276-75d9f11dfc83",
   "metadata": {},
   "outputs": [
    {
     "name": "stdout",
     "output_type": "stream",
     "text": [
      "Second largest number: 5\n"
     ]
    }
   ],
   "source": [
    "# Define a list of numbers\n",
    "numbers = [5, 2, 8, 1, 3]\n",
    "\n",
    "# Sort the list in descending order\n",
    "sorted_numbers = sorted(numbers, reverse=True)\n",
    "\n",
    "# Find the second largest number (at index 1)\n",
    "second_largest_number = sorted_numbers[1]\n",
    "\n",
    "# Print the second largest number\n",
    "print(\"Second largest number:\", second_largest_number)\n"
   ]
  },
  {
   "cell_type": "markdown",
   "id": "10964d7d",
   "metadata": {},
   "source": [
    "### 6. Write a Python program to find N largest elements from a list?"
   ]
  },
  {
   "cell_type": "code",
   "execution_count": 7,
   "id": "ad111d83-52f6-47e8-9871-0aa46a0c8d47",
   "metadata": {},
   "outputs": [
    {
     "name": "stdout",
     "output_type": "stream",
     "text": [
      "3 largest elements: [9, 8, 7]\n"
     ]
    }
   ],
   "source": [
    "# Define a list of numbers\n",
    "numbers = [5, 2, 8, 1, 3, 9, 6, 7]\n",
    "\n",
    "# Define the value of N\n",
    "N = 3  # Change this value to find a different number of largest elements\n",
    "\n",
    "# Sort the list in descending order\n",
    "sorted_numbers = sorted(numbers, reverse=True)\n",
    "\n",
    "# Find the N largest elements (first N elements)\n",
    "N_largest_elements = sorted_numbers[:N]\n",
    "\n",
    "# Print the N largest elements\n",
    "print(f\"{N} largest elements:\", N_largest_elements)\n"
   ]
  },
  {
   "cell_type": "markdown",
   "id": "989bb324",
   "metadata": {},
   "source": [
    "### 7. Write a Python program to print even numbers in a list?"
   ]
  },
  {
   "cell_type": "code",
   "execution_count": 1,
   "id": "fdd9d666-81b4-433c-8223-3aa7b37667aa",
   "metadata": {},
   "outputs": [
    {
     "name": "stdout",
     "output_type": "stream",
     "text": [
      "Even numbers in the list:\n",
      "2\n",
      "4\n",
      "6\n",
      "8\n"
     ]
    }
   ],
   "source": [
    "# Define a list of numbers\n",
    "numbers = [1, 2, 3, 4, 5, 6, 7, 8, 9]\n",
    "\n",
    "# Iterate through the list and print even numbers\n",
    "print(\"Even numbers in the list:\")\n",
    "for num in numbers:\n",
    "    if num % 2 == 0:\n",
    "        print(num)\n"
   ]
  },
  {
   "cell_type": "markdown",
   "id": "2f1a1e98",
   "metadata": {},
   "source": [
    "### 8. Write a Python program to print odd numbers in a List?"
   ]
  },
  {
   "cell_type": "code",
   "execution_count": null,
   "id": "edc24be7-0274-49c3-a993-d184d08db47f",
   "metadata": {},
   "outputs": [],
   "source": []
  },
  {
   "cell_type": "markdown",
   "id": "185b7b13",
   "metadata": {},
   "source": [
    "### 9. Write a Python program to Remove empty List from List?"
   ]
  },
  {
   "cell_type": "code",
   "execution_count": null,
   "id": "1b837eea-1298-46ef-b059-62ec1de6f4b8",
   "metadata": {},
   "outputs": [],
   "source": []
  },
  {
   "cell_type": "markdown",
   "id": "278cfacc",
   "metadata": {},
   "source": [
    "### 10. Write a Python program to Cloning or Copying a list?"
   ]
  },
  {
   "cell_type": "code",
   "execution_count": null,
   "id": "38c97827-ce73-4232-94f3-63748e499cf0",
   "metadata": {},
   "outputs": [],
   "source": []
  },
  {
   "cell_type": "markdown",
   "id": "b359bedf",
   "metadata": {},
   "source": [
    "### 11. Write a Python program to Count occurrences of an element in a list?"
   ]
  },
  {
   "cell_type": "code",
   "execution_count": null,
   "id": "4c87dbb5-6a38-4f53-a733-d81af0dc9fab",
   "metadata": {},
   "outputs": [],
   "source": []
  }
 ],
 "metadata": {
  "kernelspec": {
   "display_name": "Python 3 (ipykernel)",
   "language": "python",
   "name": "python3"
  },
  "language_info": {
   "codemirror_mode": {
    "name": "ipython",
    "version": 3
   },
   "file_extension": ".py",
   "mimetype": "text/x-python",
   "name": "python",
   "nbconvert_exporter": "python",
   "pygments_lexer": "ipython3",
   "version": "3.10.6"
  }
 },
 "nbformat": 4,
 "nbformat_minor": 5
}
