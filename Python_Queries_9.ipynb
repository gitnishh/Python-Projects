{
 "cells": [
  {
   "cell_type": "markdown",
   "id": "3334529f-c0b5-4cb1-8a7b-d3134bf76e7f",
   "metadata": {},
   "source": [
    "### 1. Write a Python program to check if the given number is a Disarium Number?"
   ]
  },
  {
   "cell_type": "code",
   "execution_count": 1,
   "id": "461d3ede-adfe-4f93-b6fb-ffa8fd709c8f",
   "metadata": {},
   "outputs": [
    {
     "name": "stdin",
     "output_type": "stream",
     "text": [
      "Enter a number:  25\n"
     ]
    },
    {
     "name": "stdout",
     "output_type": "stream",
     "text": [
      "25 is not a Disarium number.\n"
     ]
    }
   ],
   "source": [
    "def is_disarium_number(number):\n",
    "    # Convert the number to a string to access its digits\n",
    "    num_str = str(number)\n",
    "    \n",
    "    # Calculate the sum of digits raised to their respective positions\n",
    "    sum_of_powers = sum(int(digit) ** (index + 1) for index, digit in enumerate(num_str))\n",
    "    \n",
    "    # Check if the sum equals the original number\n",
    "    return sum_of_powers == number\n",
    "\n",
    "# Input a number to check\n",
    "num = int(input(\"Enter a number: \"))\n",
    "\n",
    "if is_disarium_number(num):\n",
    "    print(f\"{num} is a Disarium number.\")\n",
    "else:\n",
    "    print(f\"{num} is not a Disarium number.\")\n"
   ]
  },
  {
   "cell_type": "markdown",
   "id": "ab9c6d2b-aa1c-4eef-a0f1-7653ce56df4e",
   "metadata": {},
   "source": [
    "### 2. Write a Python program to print all disarium numbers between 1 to 100?"
   ]
  },
  {
   "cell_type": "code",
   "execution_count": 2,
   "id": "166a65cb-1a43-4c97-9f79-d934c0d0d5ae",
   "metadata": {},
   "outputs": [
    {
     "name": "stdout",
     "output_type": "stream",
     "text": [
      "Disarium numbers between 1 and 100:\n",
      "[1, 2, 3, 4, 5, 6, 7, 8, 9, 89]\n"
     ]
    }
   ],
   "source": [
    "def is_disarium_number(number):\n",
    "    num_str = str(number)\n",
    "    sum_of_powers = sum(int(digit) ** (index + 1) for index, digit in enumerate(num_str))\n",
    "    return sum_of_powers == number\n",
    "\n",
    "# Iterate through numbers from 1 to 100\n",
    "disarium_numbers = []\n",
    "for num in range(1, 101):\n",
    "    if is_disarium_number(num):\n",
    "        disarium_numbers.append(num)\n",
    "\n",
    "# Print the Disarium numbers\n",
    "print(\"Disarium numbers between 1 and 100:\")\n",
    "print(disarium_numbers)\n"
   ]
  },
  {
   "cell_type": "markdown",
   "id": "a871329c-dc5b-4a3c-9cd6-26fffad28e1b",
   "metadata": {},
   "source": [
    "### 3. Write a Python program to check if the given number is Happy Number?"
   ]
  },
  {
   "cell_type": "code",
   "execution_count": 6,
   "id": "eb8a35f8-7767-45c8-b42f-c91876556759",
   "metadata": {},
   "outputs": [
    {
     "name": "stdin",
     "output_type": "stream",
     "text": [
      "Enter a number:  13\n"
     ]
    },
    {
     "name": "stdout",
     "output_type": "stream",
     "text": [
      "13 is a Happy number.\n"
     ]
    }
   ],
   "source": [
    "def is_happy_number(number):\n",
    "    seen_numbers = set()  # To detect cycles\n",
    "    while number != 1:\n",
    "        if number in seen_numbers:\n",
    "            return False  # We've entered a cycle, not a happy number\n",
    "        seen_numbers.add(number)\n",
    "        number = sum(int(digit) ** 2 for digit in str(number))\n",
    "    return True\n",
    "\n",
    "# Input a number to check\n",
    "num = int(input(\"Enter a number: \"))\n",
    "\n",
    "if is_happy_number(num):\n",
    "    print(f\"{num} is a Happy number.\")\n",
    "else:\n",
    "    print(f\"{num} is not a Happy number.\")\n"
   ]
  },
  {
   "cell_type": "markdown",
   "id": "8f216cad-2251-44be-9805-8d0f01fd8e2c",
   "metadata": {},
   "source": [
    "### 4. Write a Python program to print all happy numbers between 1 and 100?"
   ]
  },
  {
   "cell_type": "code",
   "execution_count": 4,
   "id": "2450b9f9-1384-4c8d-95c6-a9d95f186637",
   "metadata": {},
   "outputs": [
    {
     "name": "stdout",
     "output_type": "stream",
     "text": [
      "Happy numbers between 1 and 100:\n",
      "[1, 7, 10, 13, 19, 23, 28, 31, 32, 44, 49, 68, 70, 79, 82, 86, 91, 94, 97, 100]\n"
     ]
    }
   ],
   "source": [
    "def is_happy_number(number):\n",
    "    seen_numbers = set()\n",
    "    while number != 1:\n",
    "        if number in seen_numbers:\n",
    "            return False\n",
    "        seen_numbers.add(number)\n",
    "        number = sum(int(digit) ** 2 for digit in str(number))\n",
    "    return True\n",
    "\n",
    "# Iterate through numbers from 1 to 100\n",
    "happy_numbers = []\n",
    "for num in range(1, 101):\n",
    "    if is_happy_number(num):\n",
    "        happy_numbers.append(num)\n",
    "\n",
    "# Print the happy numbers\n",
    "print(\"Happy numbers between 1 and 100:\")\n",
    "print(happy_numbers)\n"
   ]
  },
  {
   "cell_type": "markdown",
   "id": "ee7f496b-4c3e-4632-ad2a-145fc3e1c48f",
   "metadata": {},
   "source": [
    "### 5. Write a Python program to determine whether the given number is a Harshad Number?"
   ]
  },
  {
   "cell_type": "code",
   "execution_count": 5,
   "id": "e3465ab5-c468-42d0-b625-2605176927a2",
   "metadata": {},
   "outputs": [
    {
     "name": "stdin",
     "output_type": "stream",
     "text": [
      "Enter a number:  77\n"
     ]
    },
    {
     "name": "stdout",
     "output_type": "stream",
     "text": [
      "77 is not a Harshad number.\n"
     ]
    }
   ],
   "source": [
    "def is_harshad_number(number):\n",
    "    # Calculate the sum of digits\n",
    "    digit_sum = sum(int(digit) for digit in str(number))\n",
    "\n",
    "    # Check if the number is divisible by the sum of its digits\n",
    "    return number % digit_sum == 0\n",
    "\n",
    "# Input a number to check\n",
    "num = int(input(\"Enter a number: \"))\n",
    "\n",
    "if is_harshad_number(num):\n",
    "    print(f\"{num} is a Harshad number.\")\n",
    "else:\n",
    "    print(f\"{num} is not a Harshad number.\")\n"
   ]
  },
  {
   "cell_type": "markdown",
   "id": "0e6a7517-fa2d-49a4-9187-c73a785897f3",
   "metadata": {},
   "source": [
    "### 6. Write a Python program to print all pronic numbers between 1 and 100?"
   ]
  },
  {
   "cell_type": "code",
   "execution_count": 7,
   "id": "1f4940bd-d9b7-4a45-a6e4-e39dafbbe071",
   "metadata": {},
   "outputs": [
    {
     "name": "stdout",
     "output_type": "stream",
     "text": [
      "Pronic numbers between 1 and 100:\n",
      "[2, 6, 12, 20, 30, 42, 56, 72, 90]\n"
     ]
    }
   ],
   "source": [
    "def is_pronic_number(number):\n",
    "    for i in range(1, int(number**0.5) + 1):\n",
    "        if i * (i + 1) == number:\n",
    "            return True\n",
    "    return False\n",
    "\n",
    "# Iterate through numbers from 1 to 100\n",
    "pronic_numbers = []\n",
    "for num in range(1, 101):\n",
    "    if is_pronic_number(num):\n",
    "        pronic_numbers.append(num)\n",
    "\n",
    "# Print the pronic numbers\n",
    "print(\"Pronic numbers between 1 and 100:\")\n",
    "print(pronic_numbers)\n"
   ]
  }
 ],
 "metadata": {
  "kernelspec": {
   "display_name": "Python 3 (ipykernel)",
   "language": "python",
   "name": "python3"
  },
  "language_info": {
   "codemirror_mode": {
    "name": "ipython",
    "version": 3
   },
   "file_extension": ".py",
   "mimetype": "text/x-python",
   "name": "python",
   "nbconvert_exporter": "python",
   "pygments_lexer": "ipython3",
   "version": "3.10.6"
  }
 },
 "nbformat": 4,
 "nbformat_minor": 5
}
