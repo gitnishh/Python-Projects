{
 "cells": [
  {
   "cell_type": "markdown",
   "id": "654bee42-44c9-4ebc-b24f-8a3cd8a61d08",
   "metadata": {},
   "source": [
    "### 1. Write a Python Program to Add Two Matrices?"
   ]
  },
  {
   "cell_type": "code",
   "execution_count": 18,
   "id": "3b39369f-a3c2-449d-9c01-56d77b770396",
   "metadata": {},
   "outputs": [
    {
     "name": "stdout",
     "output_type": "stream",
     "text": [
      "[10, 10, 10]\n",
      "[10, 10, 10]\n",
      "[10, 10, 10]\n"
     ]
    }
   ],
   "source": [
    "def add_matrices(matrix1, matrix2):\n",
    "    if len(matrix1) != len(matrix2) or len(matrix1[0]) != len(matrix2[0]):\n",
    "        return \"Matrices must have the same dimensions for addition.\"\n",
    "\n",
    "    result = []\n",
    "    for i in range(len(matrix1)):\n",
    "        row = []\n",
    "        for j in range(len(matrix1[0])):\n",
    "            row.append(matrix1[i][j] + matrix2[i][j])\n",
    "        result.append(row)\n",
    "\n",
    "    return result\n",
    "\n",
    "# Example matrices\n",
    "matrix1 = [[1, 2, 3], [4, 5, 6], [7, 8, 9]]\n",
    "matrix2 = [[9, 8, 7], [6, 5, 4], [3, 2, 1]]\n",
    "\n",
    "result = add_matrices(matrix1, matrix2)\n",
    "\n",
    "if isinstance(result, str):\n",
    "    print(result)\n",
    "else:\n",
    "    for row in result:\n",
    "        print(row)"
   ]
  },
  {
   "cell_type": "markdown",
   "id": "59938b85-e244-4fa0-a60c-c40837d546f2",
   "metadata": {},
   "source": [
    "### 2. Write a Python Program to Multiply Two Matrices?"
   ]
  },
  {
   "cell_type": "code",
   "execution_count": 19,
   "id": "e4b5a24d-8bfe-417e-bf23-f4be6c200043",
   "metadata": {},
   "outputs": [
    {
     "name": "stdout",
     "output_type": "stream",
     "text": [
      "[58, 64]\n",
      "[139, 154]\n"
     ]
    }
   ],
   "source": [
    "def multiply_matrices(matrix1, matrix2):\n",
    "    if len(matrix1[0]) != len(matrix2):\n",
    "        return \"Number of columns in the first matrix must be equal to the number of rows in the second matrix.\"\n",
    "\n",
    "    result = []\n",
    "    for i in range(len(matrix1)):\n",
    "        row = []\n",
    "        for j in range(len(matrix2[0])):\n",
    "            # Initialize the element in the result matrix at (i, j) to 0\n",
    "            element = 0\n",
    "            for k in range(len(matrix2)):\n",
    "                element += matrix1[i][k] * matrix2[k][j]\n",
    "            row.append(element)\n",
    "        result.append(row)\n",
    "\n",
    "    return result\n",
    "\n",
    "# Example matrices\n",
    "matrix1 = [[1, 2, 3], [4, 5, 6]]\n",
    "matrix2 = [[7, 8], [9, 10], [11, 12]]\n",
    "\n",
    "result = multiply_matrices(matrix1, matrix2)\n",
    "\n",
    "if isinstance(result, str):\n",
    "    print(result)\n",
    "else:\n",
    "    for row in result:\n",
    "        print(row)\n"
   ]
  },
  {
   "cell_type": "markdown",
   "id": "19e03d40-702d-4e4e-addc-35c6c9728d5f",
   "metadata": {},
   "source": [
    "### 3. Write a Python Program to Transpose a Matrix?"
   ]
  },
  {
   "cell_type": "code",
   "execution_count": 20,
   "id": "83bcc725-6ebd-40ef-abc2-c3a4f3e64acd",
   "metadata": {},
   "outputs": [
    {
     "name": "stdout",
     "output_type": "stream",
     "text": [
      "[1, 4]\n",
      "[2, 5]\n",
      "[3, 6]\n"
     ]
    }
   ],
   "source": [
    "def transpose_matrix(matrix):\n",
    "    # Get the number of rows and columns in the original matrix\n",
    "    num_rows = len(matrix)\n",
    "    num_columns = len(matrix[0])\n",
    "\n",
    "    # Create an empty matrix to store the transposed matrix\n",
    "    transposed = [[0 for _ in range(num_rows)] for _ in range(num_columns)]\n",
    "\n",
    "    # Iterate through the original matrix and fill in the transposed matrix\n",
    "    for i in range(num_rows):\n",
    "        for j in range(num_columns):\n",
    "            transposed[j][i] = matrix[i][j]\n",
    "\n",
    "    return transposed\n",
    "\n",
    "# Example matrix\n",
    "matrix = [[1, 2, 3], [4, 5, 6]]\n",
    "\n",
    "transposed_matrix = transpose_matrix(matrix)\n",
    "\n",
    "for row in transposed_matrix:\n",
    "    print(row)\n"
   ]
  },
  {
   "cell_type": "markdown",
   "id": "2e4fbfa1-bb3a-4f95-a7e7-03f1383ab111",
   "metadata": {},
   "source": [
    "### 4. Write a Python Program to Sort Words in Alphabetic Order?"
   ]
  },
  {
   "cell_type": "code",
   "execution_count": 21,
   "id": "21a3e625-4738-455a-99cc-aba074bded2a",
   "metadata": {},
   "outputs": [
    {
     "name": "stdout",
     "output_type": "stream",
     "text": [
      "Sorted words: apple apricot banana cherry date\n"
     ]
    }
   ],
   "source": [
    "# Input string containing words\n",
    "input_string = \"apple banana cherry date apricot\"\n",
    "\n",
    "# Split the input string into a list of words\n",
    "words = input_string.split()\n",
    "\n",
    "# Sort the words in alphabetic order\n",
    "sorted_words = sorted(words)\n",
    "\n",
    "# Join the sorted words back into a string\n",
    "sorted_string = \" \".join(sorted_words)\n",
    "\n",
    "# Print the sorted string\n",
    "print(\"Sorted words:\", sorted_string)\n"
   ]
  },
  {
   "cell_type": "markdown",
   "id": "52627afe-6e7e-4719-85f1-08ecb12cf074",
   "metadata": {},
   "source": [
    "### 5. Write a Python Program to Remove Punctuation From a String?"
   ]
  },
  {
   "cell_type": "code",
   "execution_count": 22,
   "id": "1262f01b-39b9-4f34-88d2-5f211c5cea83",
   "metadata": {},
   "outputs": [
    {
     "name": "stdout",
     "output_type": "stream",
     "text": [
      "Input string: Hello, World! This is an example: 'Hello, Python!'\n",
      "String without punctuation: Hello World This is an example Hello Python\n"
     ]
    }
   ],
   "source": [
    "import string\n",
    "\n",
    "def remove_punctuation(input_string):\n",
    "    # Creating a translation table to remove punctuation\n",
    "    translator = str.maketrans('', '', string.punctuation)\n",
    "\n",
    "    # Using the translation table to remove punctuation from the input string\n",
    "    cleaned_string = input_string.translate(translator)\n",
    "\n",
    "    return cleaned_string\n",
    "\n",
    "# Input string containing punctuation\n",
    "input_string = \"Hello, World! This is an example: 'Hello, Python!'\"\n",
    "\n",
    "# Remove punctuation from the input string\n",
    "result = remove_punctuation(input_string)\n",
    "\n",
    "print(\"Input string:\", input_string)\n",
    "print(\"String without punctuation:\", result)\n"
   ]
  }
 ],
 "metadata": {
  "kernelspec": {
   "display_name": "Python 3 (ipykernel)",
   "language": "python",
   "name": "python3"
  },
  "language_info": {
   "codemirror_mode": {
    "name": "ipython",
    "version": 3
   },
   "file_extension": ".py",
   "mimetype": "text/x-python",
   "name": "python",
   "nbconvert_exporter": "python",
   "pygments_lexer": "ipython3",
   "version": "3.10.6"
  }
 },
 "nbformat": 4,
 "nbformat_minor": 5
}
