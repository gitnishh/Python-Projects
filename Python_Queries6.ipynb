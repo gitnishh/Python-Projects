{
 "cells": [
  {
   "cell_type": "markdown",
   "id": "dafb4bf0-7b37-4ce1-b33c-df4935734428",
   "metadata": {},
   "source": [
    "1. Write a Python Program to Display Fibonacci Sequence Using Recursion?"
   ]
  },
  {
   "cell_type": "code",
   "execution_count": null,
   "id": "184d9968-2cb0-4097-a590-6e731ef7e4f9",
   "metadata": {},
   "outputs": [
    {
     "name": "stdin",
     "output_type": "stream",
     "text": [
      "Enter the number of terms:  66\n"
     ]
    },
    {
     "name": "stdout",
     "output_type": "stream",
     "text": [
      "Fibonacci sequence:\n",
      "0 1 1 2 3 5 8 13 21 34 55 89 144 233 377 610 987 1597 2584 4181 6765 10946 17711 28657 46368 75025 121393 196418 317811 514229 832040 1346269 2178309 3524578 5702887 9227465 14930352 "
     ]
    }
   ],
   "source": [
    "def fibonacci(n):\n",
    "    if n <= 1:\n",
    "        return n\n",
    "    else:\n",
    "        return fibonacci(n-1) + fibonacci(n-2)\n",
    "\n",
    "# Get input from the user\n",
    "n_terms = int(input(\"Enter the number of terms: \"))\n",
    "\n",
    "# Display Fibonacci sequence using recursion\n",
    "if n_terms <= 0:\n",
    "    print(\"Invalid input\")\n",
    "else:\n",
    "    print(\"Fibonacci sequence:\")\n",
    "    for i in range(n_terms):\n",
    "        print(fibonacci(i), end=\" \")"
   ]
  },
  {
   "cell_type": "markdown",
   "id": "f22fccbc-c1ea-475d-9c5e-17e3c814d932",
   "metadata": {},
   "source": [
    "2. Write a Python Program to Find Factorial of Number Using Recursion?"
   ]
  },
  {
   "cell_type": "code",
   "execution_count": 8,
   "id": "9f7a358d-5d6c-4f9b-8df9-3e7227ae3217",
   "metadata": {},
   "outputs": [
    {
     "name": "stdin",
     "output_type": "stream",
     "text": [
      "Enter a non-negative integer:  36\n"
     ]
    },
    {
     "name": "stdout",
     "output_type": "stream",
     "text": [
      "The factorial of 36 is 371993326789901217467999448150835200000000\n"
     ]
    }
   ],
   "source": [
    "def factorial(n):\n",
    "    if n == 0:\n",
    "        return 1\n",
    "    else:\n",
    "        return n * factorial(n-1)\n",
    "\n",
    "n = int(input(\"Enter a non-negative integer: \"))\n",
    "\n",
    "if n < 0:\n",
    "    print(\"Invalid input\")\n",
    "else:\n",
    "    print(\"The factorial of\", n, \"is\", factorial(n))\n"
   ]
  },
  {
   "cell_type": "markdown",
   "id": "522ce5f6-b1d9-409c-9189-1bfa0632eab6",
   "metadata": {},
   "source": [
    "3. Write a Python Program to calculate your Body Mass Index?"
   ]
  },
  {
   "cell_type": "code",
   "execution_count": 3,
   "id": "0e51c90b-ffd8-4445-a55d-8904fe9465a6",
   "metadata": {},
   "outputs": [
    {
     "name": "stdin",
     "output_type": "stream",
     "text": [
      "Enter your weight in Kilograms:  55\n",
      "Enter your height in meters:  3\n"
     ]
    },
    {
     "name": "stdout",
     "output_type": "stream",
     "text": [
      "Your BMI is: 6.11\n"
     ]
    }
   ],
   "source": [
    "weight = float(input(\"Enter your weight in Kilograms: \"))\n",
    "height = float(input(\"Enter your height in meters: \"))\n",
    "\n",
    "bmi = weight / (height ** 2)\n",
    "\n",
    "print(\"Your BMI is:\", round(bmi, 2))"
   ]
  },
  {
   "cell_type": "markdown",
   "id": "d9092258-d9d1-45a1-8ff5-d6ee87d72c42",
   "metadata": {},
   "source": [
    "4. Write a Python Program to calculate the natural logarithm of any number?"
   ]
  },
  {
   "cell_type": "code",
   "execution_count": 5,
   "id": "78a374ff-078b-467a-af7a-9e9bf62072b4",
   "metadata": {},
   "outputs": [
    {
     "name": "stdin",
     "output_type": "stream",
     "text": [
      "Enter a positive number:  6\n"
     ]
    },
    {
     "name": "stdout",
     "output_type": "stream",
     "text": [
      "The natural logarithm of 6.0 is 1.791759469228055\n"
     ]
    }
   ],
   "source": [
    "import math\n",
    "\n",
    "x = float(input(\"Enter a positive number: \"))\n",
    "\n",
    "if x > 0:\n",
    "    ln = math.log(x)\n",
    "    print(\"The natural logarithm of\", x, \"is\", ln)\n",
    "else:\n",
    "    print(\"Invalid input\")\n"
   ]
  },
  {
   "cell_type": "markdown",
   "id": "2e8a2d8f-21b0-488c-ab4f-64e5d266c0b8",
   "metadata": {},
   "source": [
    "5. Write a Python Program for cube sum of first n natural numbers?"
   ]
  },
  {
   "cell_type": "code",
   "execution_count": 4,
   "id": "dbf6670b-87d1-4029-bac2-4531d59ccb60",
   "metadata": {},
   "outputs": [
    {
     "name": "stdin",
     "output_type": "stream",
     "text": [
      "Enter a positive integer:  7\n"
     ]
    },
    {
     "name": "stdout",
     "output_type": "stream",
     "text": [
      "The cube sum of the first 7 natural numbers is 784\n"
     ]
    }
   ],
   "source": [
    "n = int(input(\"Enter a positive integer: \"))\n",
    "\n",
    "cube_sum = 0\n",
    "for i in range(1, n+1):\n",
    "    cube_sum += i**3\n",
    "\n",
    "print(\"The cube sum of the first\", n, \"natural numbers is\", cube_sum)\n"
   ]
  }
 ],
 "metadata": {
  "kernelspec": {
   "display_name": "Python 3 (ipykernel)",
   "language": "python",
   "name": "python3"
  },
  "language_info": {
   "codemirror_mode": {
    "name": "ipython",
    "version": 3
   },
   "file_extension": ".py",
   "mimetype": "text/x-python",
   "name": "python",
   "nbconvert_exporter": "python",
   "pygments_lexer": "ipython3",
   "version": "3.10.6"
  }
 },
 "nbformat": 4,
 "nbformat_minor": 5
}
