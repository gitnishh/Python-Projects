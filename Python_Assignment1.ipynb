{
 "cells": [
  {
   "cell_type": "markdown",
   "id": "bb0a1944-9364-4bd6-963a-ddda1be262ac",
   "metadata": {
    "tags": []
   },
   "source": [
    "1. Write a Python program to print \"Hello Python\"?"
   ]
  },
  {
   "cell_type": "code",
   "execution_count": 3,
   "id": "02bbd658-c831-40f7-9f72-c3b60c32ce12",
   "metadata": {},
   "outputs": [
    {
     "name": "stdout",
     "output_type": "stream",
     "text": [
      "Hello Python\n"
     ]
    }
   ],
   "source": [
    "print(\"Hello Python\")"
   ]
  },
  {
   "cell_type": "markdown",
   "id": "d8a5e79a-f1c9-454f-8929-dd55335a6126",
   "metadata": {},
   "source": [
    "2. Write a Python program to do arithmetical operations addition and division.?\n"
   ]
  },
  {
   "cell_type": "code",
   "execution_count": 17,
   "id": "d3506f1a-7208-4399-8a1a-1360af06815f",
   "metadata": {},
   "outputs": [
    {
     "name": "stdin",
     "output_type": "stream",
     "text": [
      "Enter a number:  22\n",
      "Enter a number:  2\n"
     ]
    },
    {
     "name": "stdout",
     "output_type": "stream",
     "text": [
      "24\n",
      "11.0\n"
     ]
    }
   ],
   "source": [
    "num1 = int(input('Enter a number: '))\n",
    "num2 = int(input('Enter a number: '))\n",
    "\n",
    "# perform addition\n",
    "print(num1+num2)\n",
    "\n",
    "# perform division\n",
    "print(num1/num2)\n",
    "\n"
   ]
  },
  {
   "cell_type": "markdown",
   "id": "488b7e29-0ee4-47db-9e98-d4104bae9626",
   "metadata": {},
   "source": [
    "3. Write a Python program to find the area of a triangle?\n"
   ]
  },
  {
   "cell_type": "code",
   "execution_count": 21,
   "id": "cf58453d-acd6-4b32-85be-cd8878202c41",
   "metadata": {},
   "outputs": [
    {
     "name": "stdin",
     "output_type": "stream",
     "text": [
      "Enter base of the triangle 22\n",
      "Enter height of the triangle 66\n"
     ]
    },
    {
     "name": "stdout",
     "output_type": "stream",
     "text": [
      "Area of the triangle is:  726.0\n"
     ]
    }
   ],
   "source": [
    "Base = float(input('Enter base of the triangle'))\n",
    "Height = float(input('Enter height of the triangle'))\n",
    "\n",
    "print('Area of the triangle is: ' ,0.5*Base*Height)\n"
   ]
  },
  {
   "cell_type": "markdown",
   "id": "4ca027ce-29af-40e7-9160-0b217d4cfa28",
   "metadata": {},
   "source": [
    "4. Write a Python program to swap two variables?"
   ]
  },
  {
   "cell_type": "code",
   "execution_count": 29,
   "id": "430d3a0c-ff69-4363-b1f1-efdcdcc71e2d",
   "metadata": {},
   "outputs": [
    {
     "name": "stdin",
     "output_type": "stream",
     "text": [
      "Enter the value of x:  44\n",
      "Enter the value of y:  77\n"
     ]
    },
    {
     "name": "stdout",
     "output_type": "stream",
     "text": [
      "After swapping, the value of x is: 77\n",
      "After swapping, the value of y is: 44\n"
     ]
    }
   ],
   "source": [
    "x = input(\"Enter the value of x: \")\n",
    "y = input(\"Enter the value of y: \")\n",
    "\n",
    "# swap the values using a temporary variable\n",
    "num = x\n",
    "x = y\n",
    "y = num\n",
    "\n",
    "# print the swapped values\n",
    "print(\"After swapping, the value of x is:\", x)\n",
    "print(\"After swapping, the value of y is:\", y)"
   ]
  },
  {
   "cell_type": "markdown",
   "id": "2e04af39-3f91-4e92-82bc-5d15218b0739",
   "metadata": {},
   "source": [
    "5. Write a Python program to generate a random number?"
   ]
  },
  {
   "cell_type": "code",
   "execution_count": 26,
   "id": "cec971f6-2f68-40e8-9f6d-dfc3fb676b89",
   "metadata": {},
   "outputs": [
    {
     "data": {
      "text/plain": [
       "7"
      ]
     },
     "execution_count": 26,
     "metadata": {},
     "output_type": "execute_result"
    }
   ],
   "source": [
    "import random\n",
    "\n",
    "random.randint(1,10)"
   ]
  }
 ],
 "metadata": {
  "kernelspec": {
   "display_name": "Python 3 (ipykernel)",
   "language": "python",
   "name": "python3"
  },
  "language_info": {
   "codemirror_mode": {
    "name": "ipython",
    "version": 3
   },
   "file_extension": ".py",
   "mimetype": "text/x-python",
   "name": "python",
   "nbconvert_exporter": "python",
   "pygments_lexer": "ipython3",
   "version": "3.10.6"
  }
 },
 "nbformat": 4,
 "nbformat_minor": 5
}
