{
 "cells": [
  {
   "cell_type": "markdown",
   "id": "b85165ce-6e6c-4207-9829-a6ea727ae75e",
   "metadata": {},
   "source": [
    "1. Write a Python Program to Find LCM?"
   ]
  },
  {
   "cell_type": "code",
   "execution_count": 2,
   "id": "2404fc85-fac4-47c8-aaf7-1b03be779d9f",
   "metadata": {},
   "outputs": [
    {
     "name": "stdin",
     "output_type": "stream",
     "text": [
      "Enter the first number:  33\n",
      "Enter the second number:  44\n"
     ]
    },
    {
     "name": "stdout",
     "output_type": "stream",
     "text": [
      "The LCM of 33 and 44 is: 132\n"
     ]
    }
   ],
   "source": [
    "# Function to find the GCD of two numbers using Euclid's algorithm\n",
    "def gcd(a, b):\n",
    "    if b == 0:\n",
    "        return a\n",
    "    else:\n",
    "        return gcd(b, a % b)\n",
    "\n",
    "# Function to find the LCM of two numbers\n",
    "def lcm(a, b):\n",
    "    return (a * b) // gcd(a, b)\n",
    "\n",
    "# Get the input from the user\n",
    "num1 = int(input(\"Enter the first number: \"))\n",
    "num2 = int(input(\"Enter the second number: \"))\n",
    "\n",
    "# Print the LCM of the two numbers\n",
    "print(\"The LCM of\", num1, \"and\", num2, \"is:\", lcm(num1, num2))\n",
    "\n"
   ]
  },
  {
   "cell_type": "markdown",
   "id": "55e4255a-d9d8-42b6-ad83-591383c1cc07",
   "metadata": {},
   "source": [
    "2. Write a Python Program to Find HCF?"
   ]
  },
  {
   "cell_type": "code",
   "execution_count": 3,
   "id": "c5d9bd96-e66b-4700-9070-a320bb9e3a45",
   "metadata": {},
   "outputs": [
    {
     "name": "stdin",
     "output_type": "stream",
     "text": [
      "Enter the first number:  455\n",
      "Enter the second number:  33\n"
     ]
    },
    {
     "name": "stdout",
     "output_type": "stream",
     "text": [
      "The HCF of 455 and 33 is: 1\n"
     ]
    }
   ],
   "source": [
    "def hcf(a, b):\n",
    "    if b == 0:\n",
    "        return a\n",
    "    else:\n",
    "        return hcf(b, a % b)\n",
    "\n",
    "# Get the input from the user\n",
    "num1 = int(input(\"Enter the first number: \"))\n",
    "num2 = int(input(\"Enter the second number: \"))\n",
    "\n",
    "# Print the HCF of the two numbers\n",
    "print(\"The HCF of\", num1, \"and\", num2, \"is:\", hcf(num1, num2))"
   ]
  },
  {
   "cell_type": "markdown",
   "id": "90621de0-b8bd-44ec-bce5-da33c00af00f",
   "metadata": {},
   "source": [
    "3. Write a Python Program to Convert Decimal to Binary, Octal and Hexadecimal?"
   ]
  },
  {
   "cell_type": "code",
   "execution_count": 4,
   "id": "994dbeec-cd48-48ca-a1cc-5b8eecf0a43a",
   "metadata": {},
   "outputs": [
    {
     "name": "stdin",
     "output_type": "stream",
     "text": [
      "Enter a decimal number:  54\n"
     ]
    },
    {
     "name": "stdout",
     "output_type": "stream",
     "text": [
      "The binary equivalent of 54 is 0b110110\n",
      "The octal equivalent of 54 is 0o66\n",
      "The hexadecimal equivalent of 54 is 0x36\n"
     ]
    }
   ],
   "source": [
    "dec = int(input(\"Enter a decimal number: \"))\n",
    "\n",
    "# Convert to binary, octal, and hexadecimal\n",
    "binary = bin(dec)\n",
    "octal = oct(dec)\n",
    "hexadecimal = hex(dec)\n",
    "\n",
    "# Print the results\n",
    "print(\"The binary equivalent of\", dec, \"is\", binary)\n",
    "print(\"The octal equivalent of\", dec, \"is\", octal)\n",
    "print(\"The hexadecimal equivalent of\", dec, \"is\", hexadecimal)"
   ]
  },
  {
   "cell_type": "markdown",
   "id": "886d4409-4e34-496e-81a6-24e9420f86e6",
   "metadata": {},
   "source": [
    "4. Write a Python Program To Find ASCII value of a character?"
   ]
  },
  {
   "cell_type": "code",
   "execution_count": 6,
   "id": "e68af13e-664d-43e8-ab5d-53399a3461d5",
   "metadata": {},
   "outputs": [
    {
     "name": "stdin",
     "output_type": "stream",
     "text": [
      "Enter a character:  @\n"
     ]
    },
    {
     "name": "stdout",
     "output_type": "stream",
     "text": [
      "The ASCII value of @ is 64\n"
     ]
    }
   ],
   "source": [
    "char = input(\"Enter a character: \")\n",
    "\n",
    "# Find the ASCII value\n",
    "ascii_val = ord(char)\n",
    "\n",
    "# Print the result\n",
    "print(\"The ASCII value of\", char, \"is\", ascii_val)"
   ]
  },
  {
   "cell_type": "markdown",
   "id": "77034e9b-50c2-42ca-b68c-6ac9bd969f9b",
   "metadata": {},
   "source": [
    "5. Write a Python Program to Make a Simple Calculator with 4 basic mathematical operations?"
   ]
  },
  {
   "cell_type": "code",
   "execution_count": 7,
   "id": "0b7fbf31-0eca-4d67-8177-ee3afdcf117d",
   "metadata": {},
   "outputs": [
    {
     "name": "stdin",
     "output_type": "stream",
     "text": [
      "Enter the first number:  55\n",
      "Enter the second number:  88\n"
     ]
    },
    {
     "name": "stdout",
     "output_type": "stream",
     "text": [
      "Select operation:\n",
      "1. Add\n",
      "2. Subtract\n",
      "3. Multiply\n",
      "4. Divide\n"
     ]
    }
   ],
   "source": [
    "def add(x, y):\n",
    "    return x + y\n",
    "\n",
    "def subtract(x, y):\n",
    "    return x - y\n",
    "\n",
    "def multiply(x, y):\n",
    "    return x * y\n",
    "\n",
    "def divide(x, y):\n",
    "    return x / y\n",
    "\n",
    "# Get the input from the user\n",
    "num1 = float(input(\"Enter the first number: \"))\n",
    "num2 = float(input(\"Enter the second number: \"))\n",
    "\n",
    "# Display the menu of operations\n",
    "print(\"Select operation:\")\n",
    "print(\"1. Add\")\n",
    "print(\"2. Subtract\")\n",
    "print(\"3. Multiply\")\n",
    "print(\"4. Divide\")"
   ]
  },
  {
   "cell_type": "code",
   "execution_count": null,
   "id": "57210158-2177-4156-9e39-ef61391ceda1",
   "metadata": {},
   "outputs": [],
   "source": []
  }
 ],
 "metadata": {
  "kernelspec": {
   "display_name": "Python 3 (ipykernel)",
   "language": "python",
   "name": "python3"
  },
  "language_info": {
   "codemirror_mode": {
    "name": "ipython",
    "version": 3
   },
   "file_extension": ".py",
   "mimetype": "text/x-python",
   "name": "python",
   "nbconvert_exporter": "python",
   "pygments_lexer": "ipython3",
   "version": "3.10.6"
  }
 },
 "nbformat": 4,
 "nbformat_minor": 5
}
