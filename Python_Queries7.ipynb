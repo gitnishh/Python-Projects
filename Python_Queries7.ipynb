{
 "cells": [
  {
   "cell_type": "markdown",
   "id": "95fabf87-a50a-4e83-ae29-228603c41f2e",
   "metadata": {},
   "source": [
    "1. Write a Python Program to find sum of array?"
   ]
  },
  {
   "cell_type": "code",
   "execution_count": 4,
   "id": "b4a37fc2-3da2-4091-8d28-b31fe12ed3ea",
   "metadata": {},
   "outputs": [],
   "source": [
    "def array_sum(arr):\n",
    "    \"\"\"\n",
    "    Calculates the sum of elements in an array.\n",
    "\n",
    "    Args:\n",
    "        arr (list): The input array.\n",
    "\n",
    "    Returns:\n",
    "        int: The sum of the array elements.\n",
    "    \"\"\"\n",
    "    sum = 0\n",
    "    for element in arr:\n",
    "        sum += element\n",
    "    return sum"
   ]
  },
  {
   "cell_type": "code",
   "execution_count": 10,
   "id": "07970499-d0f0-4eb5-b97a-07251c2d2c3d",
   "metadata": {},
   "outputs": [
    {
     "name": "stdout",
     "output_type": "stream",
     "text": [
      "Sum of the array: 15\n"
     ]
    }
   ],
   "source": [
    "array = [1, 2, 3, 4, 5]\n",
    "result = array_sum(array)\n",
    "print(\"Sum of the array:\", result)\n"
   ]
  },
  {
   "cell_type": "markdown",
   "id": "6ec0e4aa-752f-4904-8397-6c790cb9dd8f",
   "metadata": {},
   "source": [
    "2. Write a Python Program to find largest element in an array?\n"
   ]
  },
  {
   "cell_type": "code",
   "execution_count": 8,
   "id": "af86de79-3721-4b47-b861-164abf8552e5",
   "metadata": {},
   "outputs": [],
   "source": [
    "def find_largest(arr):\n",
    "    \"\"\"\n",
    "    Finds the largest element in an array.\n",
    "\n",
    "    Args:\n",
    "        arr (list): The input array.\n",
    "\n",
    "    Returns:\n",
    "        int: The largest element in the array.\n",
    "    \"\"\"\n",
    "    largest = arr[0]  # Assume the first element is the largest\n",
    "    for element in arr:\n",
    "        if element > largest:\n",
    "            largest = element\n",
    "    return largest\n"
   ]
  },
  {
   "cell_type": "code",
   "execution_count": 9,
   "id": "016e419f-b7f0-4dfa-a13e-6107f6724ebb",
   "metadata": {},
   "outputs": [
    {
     "name": "stdout",
     "output_type": "stream",
     "text": [
      "Largest element in the array: 25\n"
     ]
    }
   ],
   "source": [
    "array = [10, 5, 20, 15, 25]\n",
    "result = find_largest(array)\n",
    "print(\"Largest element in the array:\", result)"
   ]
  },
  {
   "cell_type": "markdown",
   "id": "a2fbcaf0-51a4-447b-a984-7b4e077efb45",
   "metadata": {},
   "source": [
    "3. Write a Python Program for array rotation?"
   ]
  },
  {
   "cell_type": "code",
   "execution_count": 11,
   "id": "8c2957a5-decc-4c27-b706-0f2e3bac7842",
   "metadata": {},
   "outputs": [],
   "source": [
    "def rotate_array(arr, rotations):\n",
    "    \"\"\"\n",
    "    Rotates an array by a given number of rotations.\n",
    "\n",
    "    Args:\n",
    "        arr (list): The input array.\n",
    "        rotations (int): The number of rotations to perform.\n",
    "\n",
    "    Returns:\n",
    "        list: The rotated array.\n",
    "    \"\"\"\n",
    "    n = len(arr)\n",
    "    rotations = rotations % n  # Adjust rotations if it exceeds array length\n",
    "\n",
    "    # Rotate the array\n",
    "    rotated_arr = arr[rotations:] + arr[:rotations]\n",
    "    return rotated_arr\n",
    "\n"
   ]
  },
  {
   "cell_type": "code",
   "execution_count": 12,
   "id": "7fc9c904-01ca-47cb-a22b-e4e17d0ca7b3",
   "metadata": {},
   "outputs": [
    {
     "name": "stdout",
     "output_type": "stream",
     "text": [
      "Rotated array: [3, 4, 5, 1, 2]\n"
     ]
    }
   ],
   "source": [
    "array = [1, 2, 3, 4, 5]\n",
    "num_rotations = 2\n",
    "result = rotate_array(array, num_rotations)\n",
    "print(\"Rotated array:\", result)\n"
   ]
  },
  {
   "cell_type": "markdown",
   "id": "286664be-1c4e-4602-a14e-97849ddb2570",
   "metadata": {},
   "source": [
    "4. Write a Python Program to Split the array and add the first part to the end?"
   ]
  },
  {
   "cell_type": "code",
   "execution_count": 13,
   "id": "b11c2b94-3193-45e5-8f29-1c30095cb7de",
   "metadata": {},
   "outputs": [],
   "source": [
    "def split_and_add(arr, split_index):\n",
    "    \"\"\"\n",
    "    Splits an array at a given index and adds the first part to the end.\n",
    "\n",
    "    Args:\n",
    "        arr (list): The input array.\n",
    "        split_index (int): The index at which to split the array.\n",
    "\n",
    "    Returns:\n",
    "        list: The modified array.\n",
    "    \"\"\"\n",
    "    if split_index >= len(arr):\n",
    "        return arr\n",
    "\n",
    "    # Split the array and add the first part to the end\n",
    "    split_arr = arr[split_index+1:] + arr[:split_index+1]\n",
    "    return split_arr\n",
    "\n",
    "\n"
   ]
  },
  {
   "cell_type": "code",
   "execution_count": 14,
   "id": "b39671eb-e87e-4b60-a0f7-a800621d0597",
   "metadata": {},
   "outputs": [
    {
     "name": "stdout",
     "output_type": "stream",
     "text": [
      "Modified array: [4, 5, 1, 2, 3]\n"
     ]
    }
   ],
   "source": [
    "array = [1, 2, 3, 4, 5]\n",
    "split_index = 2\n",
    "result = split_and_add(array, split_index)\n",
    "print(\"Modified array:\", result)"
   ]
  },
  {
   "cell_type": "markdown",
   "id": "2ead7d91-2fe5-49ac-8ec0-7177df30f1cc",
   "metadata": {},
   "source": [
    "5. Write a Python Program to check if given array is Monotonic?\n"
   ]
  },
  {
   "cell_type": "code",
   "execution_count": 15,
   "id": "2ef7c1c8-b658-406d-b0ba-bf9be0d20820",
   "metadata": {},
   "outputs": [],
   "source": [
    "def is_monotonic(arr):\n",
    "    \"\"\"\n",
    "    Checks if an array is monotonic.\n",
    "\n",
    "    Args:\n",
    "        arr (list): The input array.\n",
    "\n",
    "    Returns:\n",
    "        bool: True if the array is monotonic, False otherwise.\n",
    "    \"\"\"\n",
    "    increasing = decreasing = True\n",
    "\n",
    "    # Check if the array is increasing or decreasing\n",
    "    for i in range(1, len(arr)):\n",
    "        if arr[i] < arr[i-1]:\n",
    "            increasing = False\n",
    "        if arr[i] > arr[i-1]:\n",
    "            decreasing = False\n",
    "\n",
    "    return increasing or decreasing\n",
    "\n",
    "\n"
   ]
  },
  {
   "cell_type": "code",
   "execution_count": 16,
   "id": "e91030bf-343b-49e2-bd14-79af8f7f536e",
   "metadata": {},
   "outputs": [
    {
     "name": "stdout",
     "output_type": "stream",
     "text": [
      "Is array1 monotonic? True\n",
      "Is array2 monotonic? True\n",
      "Is array3 monotonic? True\n",
      "Is array4 monotonic? False\n"
     ]
    }
   ],
   "source": [
    "array1 = [1, 2, 3, 4, 5]\n",
    "array2 = [5, 4, 3, 2, 1]\n",
    "array3 = [1, 2, 2, 3, 4]\n",
    "array4 = [1, 3, 2, 4, 5]\n",
    "\n",
    "print(\"Is array1 monotonic?\", is_monotonic(array1))\n",
    "print(\"Is array2 monotonic?\", is_monotonic(array2))\n",
    "print(\"Is array3 monotonic?\", is_monotonic(array3))\n",
    "print(\"Is array4 monotonic?\", is_monotonic(array4))"
   ]
  },
  {
   "cell_type": "code",
   "execution_count": null,
   "id": "4c1d7ba1-02e1-46be-9e12-98c1b58090d9",
   "metadata": {},
   "outputs": [],
   "source": []
  }
 ],
 "metadata": {
  "kernelspec": {
   "display_name": "Python 3 (ipykernel)",
   "language": "python",
   "name": "python3"
  },
  "language_info": {
   "codemirror_mode": {
    "name": "ipython",
    "version": 3
   },
   "file_extension": ".py",
   "mimetype": "text/x-python",
   "name": "python",
   "nbconvert_exporter": "python",
   "pygments_lexer": "ipython3",
   "version": "3.10.6"
  }
 },
 "nbformat": 4,
 "nbformat_minor": 5
}
