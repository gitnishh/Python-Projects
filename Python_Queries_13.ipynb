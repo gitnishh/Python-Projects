{
 "cells": [
  {
   "cell_type": "markdown",
   "id": "62fd0c8e",
   "metadata": {},
   "source": [
    "# Python Programming Basic Assignment 13"
   ]
  },
  {
   "cell_type": "markdown",
   "id": "ed4a3c0b",
   "metadata": {},
   "source": [
    "\n",
    "### 1. Write a program that calculates and prints the value according to the given formula:\n",
    "Q = Square root of [(2 C D)/H]\n",
    "\n",
    "Following are the fixed values of C and H:\n",
    "\n",
    "C is 50. H is 30.\n",
    "\n",
    "D is the variable whose values should be input to your program in a comma-separated sequence.\n",
    "\n",
    "Example\n",
    "\n",
    "Let us assume the following comma separated input sequence is given to the program:\n",
    "\n",
    "100,150,180\n",
    "\n",
    "The output of the program should be:\n",
    "\n",
    "18,22,24"
   ]
  },
  {
   "cell_type": "code",
   "execution_count": 1,
   "id": "f2d3cda9-1fe2-4926-8f00-0852eea1f97e",
   "metadata": {},
   "outputs": [
    {
     "name": "stdin",
     "output_type": "stream",
     "text": [
      "Enter the values of D separated by commas:  66\n"
     ]
    },
    {
     "name": "stdout",
     "output_type": "stream",
     "text": [
      "Results:\n",
      "14.832396974191326\n"
     ]
    }
   ],
   "source": [
    "import math\n",
    "\n",
    "# Fixed values of C and H\n",
    "C = 50\n",
    "H = 30\n",
    "\n",
    "# Input values for D as a comma-separated sequence\n",
    "input_values = input(\"Enter the values of D separated by commas: \")\n",
    "\n",
    "# Split the input string into a list of values\n",
    "values = input_values.split(',')\n",
    "\n",
    "# Initialize an empty list to store the results\n",
    "results = []\n",
    "\n",
    "# Calculate the result for each value of D\n",
    "for value in values:\n",
    "    D = int(value)\n",
    "    Q = math.sqrt((2 * C * D) / H)\n",
    "    results.append(Q)\n",
    "\n",
    "# Print the results\n",
    "print(\"Results:\")\n",
    "for result in results:\n",
    "    print(result)\n"
   ]
  },
  {
   "cell_type": "markdown",
   "id": "ed37b6ed",
   "metadata": {},
   "source": [
    "### 2. Write a program which takes 2 digits, X,Y as input and generates a 2-dimensional array. The element value in the i-th row and j-th column of the array should be i*j."
   ]
  },
  {
   "cell_type": "code",
   "execution_count": 4,
   "id": "d3a034c1-fd72-4ce3-ab8a-94f3610ba504",
   "metadata": {},
   "outputs": [
    {
     "name": "stdin",
     "output_type": "stream",
     "text": [
      "Enter the value for X:  5\n",
      "Enter the value for Y:  7\n"
     ]
    },
    {
     "name": "stdout",
     "output_type": "stream",
     "text": [
      "Generated 2D array:\n",
      "[0, 0, 0, 0, 0, 0, 0]\n",
      "[0, 1, 2, 3, 4, 5, 6]\n",
      "[0, 2, 4, 6, 8, 10, 12]\n",
      "[0, 3, 6, 9, 12, 15, 18]\n",
      "[0, 4, 8, 12, 16, 20, 24]\n"
     ]
    }
   ],
   "source": [
    "# Input values for X and Y\n",
    "X = int(input(\"Enter the value for X: \"))\n",
    "Y = int(input(\"Enter the value for Y: \"))\n",
    "\n",
    "# Initialize an empty 2D array\n",
    "array_2d = []\n",
    "\n",
    "# Generate the 2D array\n",
    "for i in range(X):\n",
    "    row = []\n",
    "    for j in range(Y):\n",
    "        row.append(i * j)\n",
    "    array_2d.append(row)\n",
    "\n",
    "# Print the 2D array\n",
    "print(\"Generated 2D array:\")\n",
    "for row in array_2d:\n",
    "    print(row)\n"
   ]
  },
  {
   "cell_type": "markdown",
   "id": "bc7f977b",
   "metadata": {},
   "source": [
    "### 3. Write a program that accepts a comma separated sequence of words as input and prints the words in a comma-separated sequence after sorting them alphabetically."
   ]
  },
  {
   "cell_type": "code",
   "execution_count": 5,
   "id": "60553e9d-41f9-4bb3-b6b9-58dd2cd59307",
   "metadata": {},
   "outputs": [
    {
     "name": "stdin",
     "output_type": "stream",
     "text": [
      "Enter a comma-separated sequence of words:  orange,apple,mango,banana,papaya\n"
     ]
    },
    {
     "name": "stdout",
     "output_type": "stream",
     "text": [
      "Sorted comma-separated sequence of words:\n",
      "apple, banana, mango, orange, papaya\n"
     ]
    }
   ],
   "source": [
    "# Input the comma-separated sequence of words\n",
    "input_sequence = input(\"Enter a comma-separated sequence of words: \")\n",
    "\n",
    "# Split the input sequence into a list of words\n",
    "words = input_sequence.split(',')\n",
    "\n",
    "# Remove leading and trailing whitespace from each word and sort the list\n",
    "sorted_words = sorted([word.strip() for word in words])\n",
    "\n",
    "# Join the sorted words into a comma-separated string\n",
    "sorted_sequence = ', '.join(sorted_words)\n",
    "\n",
    "# Print the sorted comma-separated sequence\n",
    "print(\"Sorted comma-separated sequence of words:\")\n",
    "print(sorted_sequence)\n"
   ]
  },
  {
   "cell_type": "markdown",
   "id": "171c3d90",
   "metadata": {},
   "source": [
    "### 4. Write a program that accepts a sequence of whitespace separated words as input and prints the words after removing all duplicate words and sorting them alphanumerically."
   ]
  },
  {
   "cell_type": "code",
   "execution_count": 6,
   "id": "e0e66116-f6a3-436e-a13d-248c197d8751",
   "metadata": {},
   "outputs": [
    {
     "name": "stdin",
     "output_type": "stream",
     "text": [
      "Enter a whitespace-separated sequence of words:  tree house cloud river\n"
     ]
    },
    {
     "name": "stdout",
     "output_type": "stream",
     "text": [
      "Sorted and deduplicated sequence of words:\n",
      "cloud house river tree\n"
     ]
    }
   ],
   "source": [
    "# Input the whitespace-separated sequence of words\n",
    "input_sequence = input(\"Enter a whitespace-separated sequence of words: \")\n",
    "\n",
    "# Split the input sequence into a list of words and remove duplicates\n",
    "words = list(set(input_sequence.split()))\n",
    "\n",
    "# Sort the list of unique words alphanumerically\n",
    "sorted_words = sorted(words)\n",
    "\n",
    "# Join the sorted words into a whitespace-separated string\n",
    "sorted_sequence = ' '.join(sorted_words)\n",
    "\n",
    "# Print the sorted and deduplicated sequence of words\n",
    "print(\"Sorted and deduplicated sequence of words:\")\n",
    "print(sorted_sequence)\n"
   ]
  },
  {
   "cell_type": "markdown",
   "id": "88d25c49",
   "metadata": {},
   "source": [
    "### 5. Write a program that accepts a sentence and calculate the number of letters and digits."
   ]
  },
  {
   "cell_type": "code",
   "execution_count": null,
   "id": "f3474b1a-abdb-4437-a34b-8474601bdf80",
   "metadata": {},
   "outputs": [],
   "source": []
  },
  {
   "cell_type": "markdown",
   "id": "9695c4ca",
   "metadata": {},
   "source": [
    "### 6. A website requires the users to input username and password to register. Write a program to check the validity of password input by users."
   ]
  },
  {
   "cell_type": "code",
   "execution_count": null,
   "id": "128ff171-a700-455a-b05d-a9242d286697",
   "metadata": {},
   "outputs": [],
   "source": []
  }
 ],
 "metadata": {
  "kernelspec": {
   "display_name": "Python 3 (ipykernel)",
   "language": "python",
   "name": "python3"
  },
  "language_info": {
   "codemirror_mode": {
    "name": "ipython",
    "version": 3
   },
   "file_extension": ".py",
   "mimetype": "text/x-python",
   "name": "python",
   "nbconvert_exporter": "python",
   "pygments_lexer": "ipython3",
   "version": "3.10.6"
  }
 },
 "nbformat": 4,
 "nbformat_minor": 5
}
