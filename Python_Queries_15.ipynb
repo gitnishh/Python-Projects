{
 "cells": [
  {
   "cell_type": "markdown",
   "id": "7df6e6a0",
   "metadata": {},
   "source": [
    "## Python Basic Programming Assignment - 15\n",
    "-------------------"
   ]
  },
  {
   "cell_type": "markdown",
   "id": "de299c62",
   "metadata": {},
   "source": [
    "### 1. Please write a program using generator to print the numbers which can be divisible by 5 and 7 between 0 and n in comma separated form while n is input by console."
   ]
  },
  {
   "cell_type": "code",
   "execution_count": 1,
   "id": "87bca1e1-0cef-4fd0-9cc0-68e91ad9a164",
   "metadata": {},
   "outputs": [
    {
     "name": "stdin",
     "output_type": "stream",
     "text": [
      "Enter the value of n:  57\n"
     ]
    },
    {
     "name": "stdout",
     "output_type": "stream",
     "text": [
      "Numbers divisible by 5 and 7 between 0 and 57 in comma-separated form:\n",
      "0, 35\n"
     ]
    }
   ],
   "source": [
    "def divisible_by_5_and_7_generator(n):\n",
    "    for num in range(n + 1):\n",
    "        if num % 5 == 0 and num % 7 == 0:\n",
    "            yield num\n",
    "\n",
    "# Input the value of n\n",
    "n = int(input(\"Enter the value of n: \"))\n",
    "\n",
    "# Generate and print the numbers divisible by 5 and 7 in comma-separated form\n",
    "result = divisible_by_5_and_7_generator(n)\n",
    "print(\"Numbers divisible by 5 and 7 between 0 and\", n, \"in comma-separated form:\")\n",
    "print(\", \".join(map(str, result)))\n"
   ]
  },
  {
   "cell_type": "markdown",
   "id": "c04aab80",
   "metadata": {},
   "source": [
    "\n",
    "### 2. Please write a program using generator to print the even numbers between 0 and n in comma separated form while n is input by console."
   ]
  },
  {
   "cell_type": "code",
   "execution_count": 2,
   "id": "a1231598-c014-405c-a64c-158c137e7574",
   "metadata": {},
   "outputs": [
    {
     "name": "stdin",
     "output_type": "stream",
     "text": [
      "Enter the value of n:  89\n"
     ]
    },
    {
     "name": "stdout",
     "output_type": "stream",
     "text": [
      "Even numbers between 0 and 89 in comma-separated form:\n",
      "0, 2, 4, 6, 8, 10, 12, 14, 16, 18, 20, 22, 24, 26, 28, 30, 32, 34, 36, 38, 40, 42, 44, 46, 48, 50, 52, 54, 56, 58, 60, 62, 64, 66, 68, 70, 72, 74, 76, 78, 80, 82, 84, 86, 88\n"
     ]
    }
   ],
   "source": [
    "def even_numbers_generator(n):\n",
    "    for num in range(0, n + 1, 2):\n",
    "        yield num\n",
    "\n",
    "# Input the value of n\n",
    "n = int(input(\"Enter the value of n: \"))\n",
    "\n",
    "# Generate and print the even numbers between 0 and n in comma-separated form\n",
    "result = even_numbers_generator(n)\n",
    "print(\"Even numbers between 0 and\", n, \"in comma-separated form:\")\n",
    "print(\", \".join(map(str, result)))\n"
   ]
  },
  {
   "cell_type": "markdown",
   "id": "35b72559",
   "metadata": {},
   "source": [
    "### 3. Please write a program using list comprehension to print the Fibonacci Sequence in comma separated form with a given n input by console."
   ]
  },
  {
   "cell_type": "code",
   "execution_count": 3,
   "id": "d99d1e92-4a49-4ae7-a73e-7436c53a4a76",
   "metadata": {},
   "outputs": [
    {
     "name": "stdin",
     "output_type": "stream",
     "text": [
      "Enter the value of n:  67\n"
     ]
    },
    {
     "name": "stdout",
     "output_type": "stream",
     "text": [
      "Fibonacci sequence up to 67 terms in comma-separated form:\n",
      "0, 1, 1, 2, 3, 5, 8, 13, 21, 34, 55, 89, 144, 233, 377, 610, 987, 1597, 2584, 4181, 6765, 10946, 17711, 28657, 46368, 75025, 121393, 196418, 317811, 514229, 832040, 1346269, 2178309, 3524578, 5702887, 9227465, 14930352, 24157817, 39088169, 63245986, 102334155, 165580141, 267914296, 433494437, 701408733, 1134903170, 1836311903, 2971215073, 4807526976, 7778742049, 12586269025, 20365011074, 32951280099, 53316291173, 86267571272, 139583862445, 225851433717, 365435296162, 591286729879, 956722026041, 1548008755920, 2504730781961, 4052739537881, 6557470319842, 10610209857723, 17167680177565, 27777890035288\n"
     ]
    }
   ],
   "source": [
    "# Function to generate the Fibonacci sequence up to the nth term using list comprehension\n",
    "def generate_fibonacci(n):\n",
    "    fibonacci_sequence = [0, 1]  # Initialize with the first two Fibonacci numbers\n",
    "    \n",
    "    while len(fibonacci_sequence) < n:\n",
    "        next_term = fibonacci_sequence[-1] + fibonacci_sequence[-2]\n",
    "        fibonacci_sequence.append(next_term)\n",
    "    \n",
    "    return fibonacci_sequence[:n]\n",
    "\n",
    "# Input the value of n\n",
    "n = int(input(\"Enter the value of n: \"))\n",
    "\n",
    "# Generate and print the Fibonacci sequence in comma-separated form\n",
    "fibonacci_sequence = generate_fibonacci(n)\n",
    "fibonacci_str = ', '.join(map(str, fibonacci_sequence))\n",
    "print(f\"Fibonacci sequence up to {n} terms in comma-separated form:\")\n",
    "print(fibonacci_str)\n"
   ]
  },
  {
   "cell_type": "markdown",
   "id": "dea0be0f",
   "metadata": {},
   "source": [
    "\n",
    "### 4. Assuming that we have some email addresses in the \"username@companyname.com\" format, please write program to print the user name of a given email address. Both user names and company names are composed of letters only."
   ]
  },
  {
   "cell_type": "code",
   "execution_count": null,
   "id": "27170ce0-f34e-4134-a894-d7fedd27e8ac",
   "metadata": {},
   "outputs": [],
   "source": [
    "# Input the email address\n",
    "email_address = input(\"Enter an email address in the format 'username@companyname.com': \")\n",
    "\n",
    "# Split the email address to extract the username\n",
    "parts = email_address.split(\"@\")\n",
    "if len(parts) == 2:\n",
    "    username = parts[0]\n",
    "    print(\"Username:\", username)\n",
    "else:\n",
    "    print(\"Invalid email address format.\")\n"
   ]
  },
  {
   "cell_type": "markdown",
   "id": "2834c88f",
   "metadata": {},
   "source": [
    "\n",
    "### 5. Define a class named Shape and its subclass Square. The Square class has an init function which takes a length as argument. Both classes have a area function which can print the area of the shape where Shape's area is 0 by default."
   ]
  },
  {
   "cell_type": "code",
   "execution_count": null,
   "id": "ac333fdc-4d24-4d15-b2fe-eff9be0a8b74",
   "metadata": {},
   "outputs": [],
   "source": []
  }
 ],
 "metadata": {
  "kernelspec": {
   "display_name": "Python 3 (ipykernel)",
   "language": "python",
   "name": "python3"
  },
  "language_info": {
   "codemirror_mode": {
    "name": "ipython",
    "version": 3
   },
   "file_extension": ".py",
   "mimetype": "text/x-python",
   "name": "python",
   "nbconvert_exporter": "python",
   "pygments_lexer": "ipython3",
   "version": "3.10.6"
  }
 },
 "nbformat": 4,
 "nbformat_minor": 5
}
