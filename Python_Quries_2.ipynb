{
 "cells": [
  {
   "cell_type": "markdown",
   "id": "6066fdf9-3533-4892-8bf6-dd8479529880",
   "metadata": {},
   "source": [
    "1. Write a Python program to convert kilometers to miles?"
   ]
  },
  {
   "cell_type": "code",
   "execution_count": 4,
   "id": "70035286-8cab-4b0b-ab2d-c3821d2c98fe",
   "metadata": {},
   "outputs": [
    {
     "name": "stdin",
     "output_type": "stream",
     "text": [
      "Enter kilometers:  7676\n"
     ]
    },
    {
     "name": "stdout",
     "output_type": "stream",
     "text": [
      "4769.645271613776\n"
     ]
    }
   ],
   "source": [
    "Kilometers = float(input(\"Enter kilometers: \"))\n",
    "print(Kilometers/1.609344)"
   ]
  },
  {
   "cell_type": "markdown",
   "id": "b0b029cc-acdd-4bec-9fc8-34bc0e765be1",
   "metadata": {},
   "source": [
    "2.Write a Python program to convert Celsius to Fahrenheit?"
   ]
  },
  {
   "cell_type": "code",
   "execution_count": 7,
   "id": "72027b89-d2c0-4522-9a3e-40c58de5e733",
   "metadata": {},
   "outputs": [
    {
     "name": "stdin",
     "output_type": "stream",
     "text": [
      "Enter degree celsius:  23\n"
     ]
    },
    {
     "name": "stdout",
     "output_type": "stream",
     "text": [
      "73.4\n"
     ]
    }
   ],
   "source": [
    "Celsius = float(input(\"Enter degree celsius: \"))\n",
    "print((Celsius*9/5)+32)"
   ]
  },
  {
   "cell_type": "markdown",
   "id": "c261dfb0-9909-4eba-94c1-ebd810c9c2e3",
   "metadata": {},
   "source": [
    "3. Write a Python program to display calendar?"
   ]
  },
  {
   "cell_type": "code",
   "execution_count": 11,
   "id": "25071f5b-9632-4d85-966e-8a678cd5bc04",
   "metadata": {},
   "outputs": [
    {
     "name": "stdin",
     "output_type": "stream",
     "text": [
      "Enter a Year:  2022\n",
      "Enter a Month:  06\n"
     ]
    },
    {
     "name": "stdout",
     "output_type": "stream",
     "text": [
      "     June 2022\n",
      "Mo Tu We Th Fr Sa Su\n",
      "       1  2  3  4  5\n",
      " 6  7  8  9 10 11 12\n",
      "13 14 15 16 17 18 19\n",
      "20 21 22 23 24 25 26\n",
      "27 28 29 30\n",
      "\n"
     ]
    }
   ],
   "source": [
    "import calendar\n",
    "year = int(input(\"Enter a Year: \"))\n",
    "month = int(input(\"Enter a Month: \"))\n",
    "\n",
    "print(calendar.month(year, month))"
   ]
  },
  {
   "cell_type": "markdown",
   "id": "61c937c9-3588-406a-b9c3-0d44d66a212a",
   "metadata": {},
   "source": [
    "4. Write a Python program to solve quadratic equation?"
   ]
  },
  {
   "cell_type": "code",
   "execution_count": 6,
   "id": "b050a170-ddb4-4669-9cff-186230be7923",
   "metadata": {},
   "outputs": [
    {
     "name": "stdin",
     "output_type": "stream",
     "text": [
      "Enter a:  1\n",
      "Enter b:  -3\n",
      "Enter c:  1\n"
     ]
    },
    {
     "name": "stdout",
     "output_type": "stream",
     "text": [
      "The roots are (2.618033988749895, 0.3819660112501051)\n"
     ]
    }
   ],
   "source": [
    "import math\n",
    "\n",
    "def solve_quadratic(a, b, c):\n",
    "    desc = b**2-4*a*c\n",
    "    \n",
    "    if desc < 0:\n",
    "        return None\n",
    "    \n",
    "    root1 = (-b + math.sqrt(desc)) / (2*a)\n",
    "    root2 = (-b - math.sqrt(desc)) / (2*a)\n",
    "    \n",
    "    return root1, root2\n",
    "\n",
    "a = float(input(\"Enter a: \"))\n",
    "b = float(input(\"Enter b: \"))\n",
    "c = float(input(\"Enter c: \"))\n",
    "\n",
    "roots = solve_quadratic(a, b, c)\n",
    "\n",
    "if roots is None:\n",
    "    print(\"There are no real roots.\")\n",
    "    \n",
    "else:\n",
    "    print(\"The roots are\", roots)\n",
    "    \n",
    "    \n",
    "    "
   ]
  },
  {
   "cell_type": "markdown",
   "id": "887c591c-49ea-46e5-8255-549f3b00bb82",
   "metadata": {},
   "source": [
    "5. Write a Python program to swap two variables without temp variable?"
   ]
  },
  {
   "cell_type": "code",
   "execution_count": null,
   "id": "08e17db3-800f-4cc2-81eb-700017e4b997",
   "metadata": {},
   "outputs": [],
   "source": []
  }
 ],
 "metadata": {
  "kernelspec": {
   "display_name": "Python 3 (ipykernel)",
   "language": "python",
   "name": "python3"
  },
  "language_info": {
   "codemirror_mode": {
    "name": "ipython",
    "version": 3
   },
   "file_extension": ".py",
   "mimetype": "text/x-python",
   "name": "python",
   "nbconvert_exporter": "python",
   "pygments_lexer": "ipython3",
   "version": "3.10.6"
  }
 },
 "nbformat": 4,
 "nbformat_minor": 5
}
